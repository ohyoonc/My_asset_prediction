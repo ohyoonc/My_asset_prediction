{
  "nbformat": 4,
  "nbformat_minor": 0,
  "metadata": {
    "colab": {
      "name": "My_asset_management_plan.ipynb",
      "provenance": [],
      "authorship_tag": "ABX9TyNpihOab55IhRWib4p+6Wbq",
      "include_colab_link": true
    },
    "kernelspec": {
      "name": "python3",
      "display_name": "Python 3"
    },
    "language_info": {
      "name": "python"
    }
  },
  "cells": [
    {
      "cell_type": "markdown",
      "metadata": {
        "id": "view-in-github",
        "colab_type": "text"
      },
      "source": [
        "<a href=\"https://colab.research.google.com/github/ohyoonc/My_asset_prediction/blob/main/My_asset_management_plan.ipynb\" target=\"_parent\"><img src=\"https://colab.research.google.com/assets/colab-badge.svg\" alt=\"Open In Colab\"/></a>"
      ]
    },
    {
      "cell_type": "markdown",
      "metadata": {
        "id": "-KnaSnQAbVXL"
      },
      "source": [
        "# Main Purpose\n",
        "It is too obvious if I start earning money without a good plan, I probably spend most of it. To reach my personal dream, which is having my own guesthouse and my own small flat building where all residents and guests will be welcomed with low rent(or bed charge) and little parties I might hold on the roof sometimes, I must set up a real nice plan. Predict the future realisticaly, face it, and measure my income, and be prepared.\n",
        "\n"
      ]
    },
    {
      "cell_type": "markdown",
      "metadata": {
        "id": "4e8Ih207dtOz"
      },
      "source": [
        "Using python that I learned last semester, I am going to guess my savings from 2023, when i think i'll have a proper job.\n",
        "\n",
        "Currency of money is Korean Won(KRW). \n",
        "\n",
        "*   Below, 100 is equivalant to 1,000,000 won.\n",
        "*   A million KRW is same with 880$(2021.06.23)\n"
      ]
    },
    {
      "cell_type": "code",
      "metadata": {
        "colab": {
          "base_uri": "https://localhost:8080/",
          "height": 267
        },
        "id": "HUXgc9-jXxhO",
        "outputId": "a311af7c-0abb-440b-c3ab-0de9a1d2a040"
      },
      "source": [
        "import pandas as pd\n",
        "import matplotlib.pyplot as plt\n",
        "\n",
        "def annual_save(x,y,z): # x = present money / y = monthly income / z = average rate of return\n",
        "    initial_m = x + (y*12) # Adding annual_income to seed money, my asset \n",
        "    final_amount = initial_m*z\n",
        "    return final_amount\n",
        "\n",
        "# list of total money annualy\n",
        "total_amount_list = []\n",
        "no_invest_list = []\n",
        "year_asset = {}\n",
        "\n",
        "# making year index list\n",
        "\n",
        "year_begin = 2024\n",
        "year_end = 2029\n",
        "\n",
        "year_list = list(range(year_begin,year_end))\n",
        "\n",
        "\n",
        "present_amount = 1000\n",
        "no_invest_amount = present_amount\n",
        "saving_monthly = 300\n",
        "\n",
        "# Assuming the final amount\n",
        "# for i in year_list:\n",
        "#     present_amount = annual_save(present_amount,saving_monthly,1.08)\n",
        "# print(present_amount) \n",
        "\n",
        "\n",
        "# Entering values to the annual total money dictionary\n",
        "# for i in year_list:\n",
        "    \n",
        "#     present_amount = annual_save(present_amount,saving_monthly,1.08)\n",
        "#     year_asset[i]= int(present_amount)\n",
        "# print(year_asset)\n",
        "# d = pd.DataFrame(year_asset)\n",
        "# d\n",
        "\n",
        "\n",
        "# Entering values to the annual money list\n",
        "for i in year_list:\n",
        "    \n",
        "    present_amount = annual_save(present_amount,saving_monthly,1.08)\n",
        "    total_amount_list.append(int(present_amount))\n",
        "\n",
        "# No investment, just saving\n",
        "for i in year_list:\n",
        "    \n",
        "    no_invest_amount = no_invest_amount + (saving_monthly*12)\n",
        "    no_invest_list.append(no_invest_amount)\n",
        "\n",
        "    \n",
        "df = pd.DataFrame({'total amount':total_amount_list,'just saving':no_invest_list},year_list)\n",
        "df.transpose\n",
        "df\n",
        "\n",
        "plt.plot(df)\n",
        "plt.show()"
      ],
      "execution_count": null,
      "outputs": [
        {
          "output_type": "display_data",
          "data": {
            "image/png": "[encoded data removed]",
            "text/plain": [
              "<Figure size 432x288 with 1 Axes>"
            ]
          },
          "metadata": {
            "tags": [],
            "needs_background": "light"
          }
        }
      ]
    },
    {
      "cell_type": "markdown",
      "metadata": {
        "id": "gLP_zw2FL5bZ"
      },
      "source": [
        "## My Monthly Expenses (for last 3months)\n",
        "Since I don't know if it would be possible to get the data automatically from a card company(turns out I can't use BS on this. Not even opening the developer tool on the same page. Security!), Let's use the excel file they provide.\n",
        "\n",
        "\n",
        "*   Upload the xlsx file from local\n",
        "*   Categorize it\n",
        "\n"
      ]
    },
    {
      "cell_type": "code",
      "metadata": {
        "id": "RA0-pmjoy6dl",
        "colab": {
          "base_uri": "https://localhost:8080/"
        },
        "outputId": "379e994f-a8b9-4d88-869e-47f4e0abe708"
      },
      "source": [
        "import pandas as pd\n",
        "import matplotlib.pyplot as plt\n",
        "\n",
        "\n",
        "# Credit card expenses monthly\n",
        "june_ex = pd.read_excel('2021 june expense.xlsx')\n",
        "may_ex = pd.read_excel('2021 may expense.xlsx')\n",
        "\n",
        "# Categorizing the data with business type\n",
        "\n",
        "medical = may_ex['업종'].isin(['약국' , '정형외과' , '피부과'])\n",
        "tel = may_ex['업종'] == '통신비(시청료)'\n",
        "bus_metro = may_ex['업종'] == '기타교통'\n",
        "restaurants = may_ex['업종'].isin(['기타일반음식' , '한식(한정식)' , '양식' , '중식' , '일식(횟집)' , '패스트푸드점', '제과점'])\n",
        "cafes = may_ex['업종'] == '커피전문점'\n",
        "\n",
        "may_category_ex = may_ex[cafes]\n",
        "\n",
        "may_category_ex['이용금액'].sum()\n",
        "\n",
        "\n",
        "# How much did I spend on my favourite coffe shop?\n",
        "\n",
        "# riff_coffee = june_ex['이용가맹점'] == '리프커피바' \n",
        "# june_riff = june_ex[riff_coffee]\n",
        "\n",
        "# total_june_riff = june_riff['이용금액'].sum()\n",
        "# total_june_riff"
      ],
      "execution_count": 37,
      "outputs": [
        {
          "output_type": "execute_result",
          "data": {
            "text/plain": [
              "122975"
            ]
          },
          "metadata": {
            "tags": []
          },
          "execution_count": 37
        }
      ]
    },
    {
      "cell_type": "markdown",
      "metadata": {
        "id": "tuKiRvWWdc1q"
      },
      "source": [
        "## Monthly Card Expediture Excel Chart Analysis Automization"
      ]
    },
    {
      "cell_type": "code",
      "metadata": {
        "colab": {
          "base_uri": "https://localhost:8080/"
        },
        "id": "Cp4q59KHdcE5",
        "outputId": "fab3f2d8-d305-41e0-c1c8-8334784db555"
      },
      "source": [
        "import pandas as pd\n",
        "\n",
        "year = '2021'\n",
        "month = 'april'\n",
        "\n",
        "month_ex = pd.read_excel(f'{year} {month} expense.xlsx')\n",
        "\n",
        "# Categorizing the data with business type\n",
        "\n",
        "medical = month_ex['업종'].isin(['약국' , '정형외과' , '피부과'])\n",
        "tel = month_ex['업종'] == '통신비(시청료)'\n",
        "bus_metro = month_ex['업종'] == '기타교통'\n",
        "restaurants = month_ex['업종'].isin(['기타일반음식' , '한식(한정식)' , '양식' , '중식' , '일식(횟집)' , '패스트푸드점'])\n",
        "cafes = month_ex['업종'] == '커피전문점'\n",
        "\n",
        "\n",
        "category_ex = month_ex[restaurants]  # Type in one of the category names above in []!\n",
        "\n",
        "# If you want to see the sum of a certain place among all\n",
        "# riff_coffee = june_ex['이용가맹점'] == '리프커피바' \n",
        "# june_riff = june_ex[riff_coffee]\n",
        "\n",
        "# total_june_riff = june_riff['이용금액'].sum()\n",
        "# total_june_riff\n",
        "\n",
        "category_ex\n",
        "category_ex['이용금액'].sum()"
      ],
      "execution_count": 48,
      "outputs": [
        {
          "output_type": "execute_result",
          "data": {
            "text/plain": [
              "132400"
            ]
          },
          "metadata": {
            "tags": []
          },
          "execution_count": 48
        }
      ]
    },
    {
      "cell_type": "code",
      "metadata": {
        "colab": {
          "base_uri": "https://localhost:8080/"
        },
        "id": "VrHt4mFevwFf",
        "outputId": "b21c3c20-8bc3-4a1b-bfd4-360958fafd91"
      },
      "source": [
        "# Fixed expenses\n",
        "\n",
        "tel = 8000\n",
        "insurance = 7580\n",
        "netflix = 14500/4\n",
        "bus_metro = 55000\n",
        "\n",
        "fixed_ex = bus_metro + netflix + tel + insurance\n",
        "fixed_ex"
      ],
      "execution_count": 49,
      "outputs": [
        {
          "output_type": "execute_result",
          "data": {
            "text/plain": [
              "74205.0"
            ]
          },
          "metadata": {
            "tags": []
          },
          "execution_count": 49
        }
      ]
    }
  ]
}