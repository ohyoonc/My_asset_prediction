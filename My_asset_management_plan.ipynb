{
  "nbformat": 4,
  "nbformat_minor": 0,
  "metadata": {
    "colab": {
      "name": "My_asset_management_plan.ipynb",
      "provenance": [],
      "authorship_tag": "ABX9TyPTRhezroQ5WIUGRfWqu5vI",
      "include_colab_link": true
    },
    "kernelspec": {
      "name": "python3",
      "display_name": "Python 3"
    },
    "language_info": {
      "name": "python"
    }
  },
  "cells": [
    {
      "cell_type": "markdown",
      "metadata": {
        "id": "view-in-github",
        "colab_type": "text"
      },
      "source": [
        "<a href=\"https://colab.research.google.com/github/ohyoonc/My_asset_prediction/blob/main/My_asset_management_plan.ipynb\" target=\"_parent\"><img src=\"https://colab.research.google.com/assets/colab-badge.svg\" alt=\"Open In Colab\"/></a>"
      ]
    },
    {
      "cell_type": "markdown",
      "metadata": {
        "id": "-KnaSnQAbVXL"
      },
      "source": [
        "# Main Purpose\n",
        "It is too obvious if I start earning money without a good plan, I probably spend most of it. To reach my personal dream, which is having my own guesthouse and my own small flat building where all residents and guests will be welcomed with low rent(or bed charge) and little parties I might hold on the roof sometimes, I must set up a real nice plan. Predict the future realisticaly, face it, and measure my income, and be prepared.\n",
        "\n"
      ]
    },
    {
      "cell_type": "markdown",
      "metadata": {
        "id": "4e8Ih207dtOz"
      },
      "source": [
        "Using python that I learned last semester, I am going to guess my savings from 2023, when i think i'll have a proper job.\n",
        "\n",
        "Currency of money is Korean Won(KRW). \n",
        "\n",
        "*   Below, 100 is equivalant to 1,000,000 won.\n",
        "*   A million KRW is same with 880$(2021.06.23)\n"
      ]
    },
    {
      "cell_type": "code",
      "metadata": {
        "colab": {
          "base_uri": "https://localhost:8080/",
          "height": 265
        },
        "id": "HUXgc9-jXxhO",
        "outputId": "2ed06e69-3f2b-465a-e83a-f1c0672100ed"
      },
      "source": [
        "import pandas as pd\n",
        "import matplotlib.pyplot as plt\n",
        "\n",
        "def annual_save(x,y,z): # x = present money / y = monthly income / z = average rate of return\n",
        "    initial_m = x + (y*12) # Adding annual_income to seed money, my asset \n",
        "    final_amount = initial_m*z\n",
        "    return final_amount\n",
        "\n",
        "# list of total money annualy\n",
        "total_amount_list = []\n",
        "no_invest_list = []\n",
        "year_asset = {}\n",
        "\n",
        "# making year index list\n",
        "\n",
        "year_begin = 2023\n",
        "year_end = 2043\n",
        "\n",
        "year_list = list(range(year_begin,year_end))\n",
        "\n",
        "\n",
        "present_amount = 1000\n",
        "no_invest_amount = present_amount\n",
        "saving_monthly = 200\n",
        "\n",
        "# Assuming the final amount\n",
        "# for i in year_list:\n",
        "#     present_amount = annual_save(present_amount,saving_monthly,1.08)\n",
        "# print(present_amount) \n",
        "\n",
        "\n",
        "# Entering values to the annual total money dictionary\n",
        "# for i in year_list:\n",
        "    \n",
        "#     present_amount = annual_save(present_amount,saving_monthly,1.08)\n",
        "#     year_asset[i]= int(present_amount)\n",
        "# print(year_asset)\n",
        "# d = pd.DataFrame(year_asset)\n",
        "# d\n",
        "\n",
        "\n",
        "# Entering values to the annual money list\n",
        "for i in year_list:\n",
        "    \n",
        "    present_amount = annual_save(present_amount,saving_monthly,1.08)\n",
        "    total_amount_list.append(int(present_amount))\n",
        "\n",
        "# No investment, just saving\n",
        "for i in year_list:\n",
        "    \n",
        "    no_invest_amount = no_invest_amount + (saving_monthly*12)\n",
        "    no_invest_list.append(no_invest_amount)\n",
        "\n",
        "    \n",
        "df = pd.DataFrame({'total amount':total_amount_list,'just saving':no_invest_list},year_list)\n",
        "df.transpose\n",
        "df\n",
        "\n",
        "plt.plot(df)\n",
        "plt.show()"
      ],
      "execution_count": 50,
      "outputs": [
        {
          "output_type": "display_data",
          "data": {
            "image/png": "[encoded data removed]",
            "text/plain": [
              "<Figure size 432x288 with 1 Axes>"
            ]
          },
          "metadata": {
            "tags": [],
            "needs_background": "light"
          }
        }
      ]
    },
    {
      "cell_type": "code",
      "metadata": {
        "id": "RA0-pmjoy6dl"
      },
      "source": [
        "_"
      ],
      "execution_count": null,
      "outputs": []
    }
  ]
}